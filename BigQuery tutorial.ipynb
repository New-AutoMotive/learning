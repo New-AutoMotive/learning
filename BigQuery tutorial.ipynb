{
  "cells": [
    {
      "cell_type": "markdown",
      "metadata": {
        "id": "view-in-github",
        "colab_type": "text"
      },
      "source": [
        "<a href=\"https://colab.research.google.com/github/New-AutoMotive/learning/blob/main/BigQuery%20tutorial.ipynb\" target=\"_parent\"><img src=\"https://colab.research.google.com/assets/colab-badge.svg\" alt=\"Open In Colab\"/></a>"
      ]
    },
    {
      "cell_type": "markdown",
      "id": "5e34255d-1cfd-4883-af92-92e3077d25ba",
      "metadata": {
        "id": "5e34255d-1cfd-4883-af92-92e3077d25ba"
      },
      "source": [
        "# BigQuery & Python Tutorial\n",
        "\n",
        "BigQuery is accessible from https://console.cloud.google.com.  It is a piece of software that allows you to access and interact with large datasets."
      ]
    },
    {
      "cell_type": "markdown",
      "source": [
        "## Importing packages and authenticating our access to BigQuery"
      ],
      "metadata": {
        "id": "39ZNstENEPSG"
      },
      "id": "39ZNstENEPSG"
    },
    {
      "cell_type": "code",
      "execution_count": 1,
      "id": "955513b5-7e46-4b2e-a7e4-f314dbc2a869",
      "metadata": {
        "id": "955513b5-7e46-4b2e-a7e4-f314dbc2a869"
      },
      "outputs": [],
      "source": [
        "# To interact with BigQuery, it's helpful to use some python packages.\n",
        "# The %load_ext command is a variation on the 'import' command, but it only works in Jupyter Notebooks. \n",
        "import pandas as pd\n",
        "%load_ext google.cloud.bigquery"
      ]
    },
    {
      "cell_type": "code",
      "source": [
        "# When running this notebook in Google Colab, use the following code to authenticate\n",
        "\n",
        "from google.colab import auth\n",
        "auth.authenticate_user()\n",
        "print('Authenticated')"
      ],
      "metadata": {
        "id": "YuSP-9DYdIsR"
      },
      "id": "YuSP-9DYdIsR",
      "execution_count": null,
      "outputs": []
    },
    {
      "cell_type": "markdown",
      "source": [
        "## Running a Query"
      ],
      "metadata": {
        "id": "Z50-io-EEWB3"
      },
      "id": "Z50-io-EEWB3"
    },
    {
      "cell_type": "markdown",
      "id": "546189d9-93dd-4d01-9e56-5994f7587de8",
      "metadata": {
        "id": "546189d9-93dd-4d01-9e56-5994f7587de8"
      },
      "source": [
        "Below, we query a database with a SQL query, which will be stored in the variable `df`. Since this code is preceded by a % or %% symbol, it is known as a 'cell magic'. The code is not actually python, so these % symbols tell the python interpreter that we are using a different language. \n",
        "\n",
        "Remember: \n",
        "\n",
        "\n",
        "*   `SELECT` determines the columns we want,\n",
        "*    `*` is the wildcard character - it denotes any and every possible value available,\n",
        "*   `FROM` tells the SQL interpreter where to look for the data.\n",
        "*   `WHERE` imposes filters or conditions on the data that is returned, in this case any row that has monthOfFirstRegistration that satisfies the value. \n",
        "*   `AND` adds another filter or condition in addition to the first condition specified after the `WHERE` clause. \n",
        "\n",
        "\n",
        "\n",
        "\n",
        "\n"
      ]
    },
    {
      "cell_type": "code",
      "execution_count": 3,
      "id": "f915dfc0-0cca-4e6d-aecb-efbc503e26d0",
      "metadata": {
        "id": "f915dfc0-0cca-4e6d-aecb-efbc503e26d0"
      },
      "outputs": [],
      "source": [
        "%%bigquery df --project rugged-baton-283921\n",
        "SELECT *\n",
        "FROM VES_dataset.VRN_UK\n",
        "WHERE monthOfFirstRegistration = '2021-12-01'\n",
        "AND fuelType = 'ELECTRICITY'"
      ]
    },
    {
      "cell_type": "markdown",
      "source": [
        "## Investigating our data"
      ],
      "metadata": {
        "id": "4GmrMt7vEaLe"
      },
      "id": "4GmrMt7vEaLe"
    },
    {
      "cell_type": "code",
      "execution_count": null,
      "id": "06e864c5-cdb8-4302-9de8-0f33e4b69f7f",
      "metadata": {
        "id": "06e864c5-cdb8-4302-9de8-0f33e4b69f7f"
      },
      "outputs": [],
      "source": [
        "# The .head() method shows us the top 5 lines of the spreadsheet. \n",
        "df.head()"
      ]
    },
    {
      "cell_type": "code",
      "source": [
        "df.describe()"
      ],
      "metadata": {
        "id": "fqC4M5vqCsad"
      },
      "id": "fqC4M5vqCsad",
      "execution_count": null,
      "outputs": []
    },
    {
      "cell_type": "code",
      "source": [
        "df.fuelType"
      ],
      "metadata": {
        "id": "LSlwUdBCFcbI"
      },
      "id": "LSlwUdBCFcbI",
      "execution_count": null,
      "outputs": []
    },
    {
      "cell_type": "code",
      "source": [
        "df.fuelType.unique()"
      ],
      "metadata": {
        "id": "FreOp4nzFfC3"
      },
      "id": "FreOp4nzFfC3",
      "execution_count": null,
      "outputs": []
    },
    {
      "cell_type": "code",
      "source": [
        "df.dtypes"
      ],
      "metadata": {
        "id": "REpa4_00D06l"
      },
      "id": "REpa4_00D06l",
      "execution_count": null,
      "outputs": []
    },
    {
      "cell_type": "markdown",
      "source": [
        "## Investigating New Van Registrations"
      ],
      "metadata": {
        "id": "aEOV_xFwEe6G"
      },
      "id": "aEOV_xFwEe6G"
    },
    {
      "cell_type": "markdown",
      "source": [
        "Now let's set ourselves a data analysis task. At New AutoMotive we tend to focus on passenger cars - but what about the new **van** market? How is that changing? Is diesel dying there, too? Are BEVs common? Let's have a look and see how many Light Commercial Vehicles (with 'N1' type approval) have been registered in each month of the last 5 years, broken down by fuel type. "
      ],
      "metadata": {
        "id": "OXOvdyVRCKvb"
      },
      "id": "OXOvdyVRCKvb"
    },
    {
      "cell_type": "markdown",
      "source": [
        "### How would we write this SQL query?"
      ],
      "metadata": {
        "id": "3CK7r22JE_2A"
      },
      "id": "3CK7r22JE_2A"
    },
    {
      "cell_type": "code",
      "source": [
        "%%bigquery df_van --project rugged-baton-283921\n",
        "# We want three columns: monthOfRegistration, fuelType, and the total number of vans falling into each combination of those two values.\n",
        "SELECT monthOfFirstRegistration, fuelType, COUNT(*) as total\n",
        "# The data is coming from VRN_UK\n",
        "FROM VES_dataset.VRN_UK\n",
        "# Our filters specify vans, and the time period, (and alaso exclude some weird fuel types)\n",
        "WHERE typeApproval = 'N1'\n",
        "AND monthOfFirstRegistration < '2022-01-01'\n",
        "AND monthOfFirstRegistration > '2016-12-31'\n",
        "AND fuelType IN ('DIESEL', 'PETROL', 'ELECTRICITY', 'HYBRID ELECTRIC')\n",
        "# The group by statement groups rows with identical fueltype and monthOfFirstRegistration values, and gives the COUNT() function some work to do\n",
        "GROUP BY monthOfFirstRegistration, fuelType"
      ],
      "metadata": {
        "id": "x4yS0HyrCi8i"
      },
      "id": "x4yS0HyrCi8i",
      "execution_count": 64,
      "outputs": []
    },
    {
      "cell_type": "code",
      "source": [
        "# This operation sets the index (think of the names of the rows) as the monthOfFirstRegistration values\n",
        "\n",
        "df_van.set_index('monthOfFirstRegistration', inplace=True)"
      ],
      "metadata": {
        "id": "MbGtv7zpGzUU"
      },
      "id": "MbGtv7zpGzUU",
      "execution_count": 65,
      "outputs": []
    },
    {
      "cell_type": "code",
      "source": [
        "df_van.head(20)"
      ],
      "metadata": {
        "id": "jFYOouuc6u9k"
      },
      "id": "jFYOouuc6u9k",
      "execution_count": null,
      "outputs": []
    },
    {
      "cell_type": "markdown",
      "source": [
        "### How can we visualise this data?\n",
        "\n",
        "We'll use the seaborn library to visualise this data - it's quite snazzy and fairly easy to get to grips with\n",
        "\n",
        "Matplotlib is a very popular library, and has some more flexibility than seaborn, but it's a bit more complicated to get to grips with.\n",
        "\n",
        "\n"
      ],
      "metadata": {
        "id": "aY8iAGFxGvOw"
      },
      "id": "aY8iAGFxGvOw"
    },
    {
      "cell_type": "markdown",
      "source": [
        "#### 1. Monthly totals in a line plot"
      ],
      "metadata": {
        "id": "jri1Nj15K1iD"
      },
      "id": "jri1Nj15K1iD"
    },
    {
      "cell_type": "code",
      "source": [
        "df_van_wide = df_van.pivot(columns='fuelType', values='total')"
      ],
      "metadata": {
        "id": "FykiJi6uMXmB"
      },
      "id": "FykiJi6uMXmB",
      "execution_count": 68,
      "outputs": []
    },
    {
      "cell_type": "code",
      "source": [
        "df_van_wide.plot.line(figsize=(12, 8))"
      ],
      "metadata": {
        "id": "fQXqKH3qLXwN"
      },
      "id": "fQXqKH3qLXwN",
      "execution_count": null,
      "outputs": []
    },
    {
      "cell_type": "markdown",
      "source": [
        "#### 2. Market share over time"
      ],
      "metadata": {
        "id": "sQYbQ_1oK0ql"
      },
      "id": "sQYbQ_1oK0ql"
    },
    {
      "cell_type": "code",
      "source": [
        "# We'll do a couple of operations here in one go...\n",
        "# DataFrame.div() will divide a DataFrame by the value inside the brackets.\n",
        "# We divide our dataframe by df_van_wide.sum(axis=1) which means that each row (indicated by 'axis=1') is summed up, so every value in each column is divided by the sum of each row, giving us the percentage)\n",
        "# Uncomment the line of code below and run this cell to see what this operation does. \n",
        "\n",
        "# df_van_wide.div(df_van_wide.sum(axis=1), axis=0)"
      ],
      "metadata": {
        "id": "pAh0M04hJscz"
      },
      "id": "pAh0M04hJscz",
      "execution_count": 44,
      "outputs": []
    },
    {
      "cell_type": "code",
      "source": [
        "df_van_wide_perc = df_van_wide.div(df_van_wide.sum(axis=1), axis=0)"
      ],
      "metadata": {
        "id": "uxUA5OZVIPk_"
      },
      "id": "uxUA5OZVIPk_",
      "execution_count": 61,
      "outputs": []
    },
    {
      "cell_type": "code",
      "source": [
        "df_van_wide_perc.plot(figsize=(12, 8))"
      ],
      "metadata": {
        "id": "46jyOdm0JnOH"
      },
      "id": "46jyOdm0JnOH",
      "execution_count": null,
      "outputs": []
    },
    {
      "cell_type": "code",
      "source": [
        ""
      ],
      "metadata": {
        "id": "DXYk8HtAJoH_"
      },
      "id": "DXYk8HtAJoH_",
      "execution_count": null,
      "outputs": []
    }
  ],
  "metadata": {
    "kernelspec": {
      "display_name": "Python 3",
      "language": "python",
      "name": "python3"
    },
    "language_info": {
      "codemirror_mode": {
        "name": "ipython",
        "version": 3
      },
      "file_extension": ".py",
      "mimetype": "text/x-python",
      "name": "python",
      "nbconvert_exporter": "python",
      "pygments_lexer": "ipython3",
      "version": "3.7.10"
    },
    "colab": {
      "name": "BigQuery tutorial.ipynb",
      "provenance": [],
      "toc_visible": true,
      "include_colab_link": true
    }
  },
  "nbformat": 4,
  "nbformat_minor": 5
}