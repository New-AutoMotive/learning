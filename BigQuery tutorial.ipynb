{
 "cells": [
  {
   "cell_type": "markdown",
   "id": "5e34255d-1cfd-4883-af92-92e3077d25ba",
   "metadata": {},
   "source": [
    "### BigQuery & Python Tutorial\n",
    "\n",
    "BigQuery is accessible from https://console.cloud.google.com.  It is a piece of software that allows you to access and interact with large datasets."
   ]
  },
  {
   "cell_type": "code",
   "execution_count": null,
   "id": "955513b5-7e46-4b2e-a7e4-f314dbc2a869",
   "metadata": {},
   "outputs": [],
   "source": [
    "# To interact with BigQuery, it's helpful to use some python packages.\n",
    "# The %load_ext command is a variation on the 'import' command, but it only works in Jupyter Notebooks. \n",
    "\n",
    "import pandas as pd\n",
    "%load_ext google.cloud.bigquery"
   ]
  },
  {
   "cell_type": "markdown",
   "id": "546189d9-93dd-4d01-9e56-5994f7587de8",
   "metadata": {},
   "source": [
    "Below, we query a database with a SQL query, which will be stored in the variable `df`"
   ]
  },
  {
   "cell_type": "code",
   "execution_count": null,
   "id": "f915dfc0-0cca-4e6d-aecb-efbc503e26d0",
   "metadata": {},
   "outputs": [],
   "source": [
    "%%bigquery df\n",
    "SELECT *\n",
    "FROM VES_dataset.VRN_UK\n",
    "WHERE monthOfFirstRegistration = '2021-12-01'\n",
    "AND fuelType = 'ELECTRICITY'"
   ]
  },
  {
   "cell_type": "code",
   "execution_count": null,
   "id": "06e864c5-cdb8-4302-9de8-0f33e4b69f7f",
   "metadata": {},
   "outputs": [],
   "source": [
    "# The .head() method shows us the top 5 lines of the spreadsheet. \n",
    "df.head()"
   ]
  }
 ],
 "metadata": {
  "kernelspec": {
   "display_name": "Python 3",
   "language": "python",
   "name": "python3"
  },
  "language_info": {
   "codemirror_mode": {
    "name": "ipython",
    "version": 3
   },
   "file_extension": ".py",
   "mimetype": "text/x-python",
   "name": "python",
   "nbconvert_exporter": "python",
   "pygments_lexer": "ipython3",
   "version": "3.7.10"
  }
 },
 "nbformat": 4,
 "nbformat_minor": 5
}
