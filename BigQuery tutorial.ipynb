{
  "cells": [
    {
      "cell_type": "markdown",
      "metadata": {
        "id": "view-in-github",
        "colab_type": "text"
      },
      "source": [
        "<a href=\"https://colab.research.google.com/github/New-AutoMotive/learning/blob/main/BigQuery%20tutorial.ipynb\" target=\"_parent\"><img src=\"https://colab.research.google.com/assets/colab-badge.svg\" alt=\"Open In Colab\"/></a>"
      ]
    },
    {
      "cell_type": "markdown",
      "id": "5e34255d-1cfd-4883-af92-92e3077d25ba",
      "metadata": {
        "id": "5e34255d-1cfd-4883-af92-92e3077d25ba"
      },
      "source": [
        "### BigQuery & Python Tutorial\n",
        "\n",
        "BigQuery is accessible from https://console.cloud.google.com.  It is a piece of software that allows you to access and interact with large datasets."
      ]
    },
    {
      "cell_type": "code",
      "execution_count": 1,
      "id": "955513b5-7e46-4b2e-a7e4-f314dbc2a869",
      "metadata": {
        "id": "955513b5-7e46-4b2e-a7e4-f314dbc2a869"
      },
      "outputs": [],
      "source": [
        "# To interact with BigQuery, it's helpful to use some python packages.\n",
        "# The %load_ext command is a variation on the 'import' command, but it only works in Jupyter Notebooks. \n",
        "\n",
        "import pandas as pd\n",
        "%load_ext google.cloud.bigquery"
      ]
    },
    {
      "cell_type": "code",
      "source": [
        "# When running this notebook in Google Colab, use the following code to authenticate\n",
        "\n",
        "from google.colab import auth\n",
        "auth.authenticate_user()\n",
        "print('Authenticated')"
      ],
      "metadata": {
        "id": "YuSP-9DYdIsR",
        "outputId": "18d39787-cd66-40b1-8944-6c9ec9f99844",
        "colab": {
          "base_uri": "https://localhost:8080/"
        }
      },
      "id": "YuSP-9DYdIsR",
      "execution_count": 3,
      "outputs": [
        {
          "output_type": "stream",
          "name": "stdout",
          "text": [
            "Authenticated\n"
          ]
        }
      ]
    },
    {
      "cell_type": "markdown",
      "id": "546189d9-93dd-4d01-9e56-5994f7587de8",
      "metadata": {
        "id": "546189d9-93dd-4d01-9e56-5994f7587de8"
      },
      "source": [
        "Below, we query a database with a SQL query, which will be stored in the variable `df`"
      ]
    },
    {
      "cell_type": "code",
      "execution_count": 6,
      "id": "f915dfc0-0cca-4e6d-aecb-efbc503e26d0",
      "metadata": {
        "id": "f915dfc0-0cca-4e6d-aecb-efbc503e26d0"
      },
      "outputs": [],
      "source": [
        "%%bigquery df --project rugged-baton-283921\n",
        "SELECT *\n",
        "FROM VES_dataset.VRN_UK\n",
        "WHERE monthOfFirstRegistration = '2021-12-01'\n",
        "AND fuelType = 'ELECTRICITY'"
      ]
    },
    {
      "cell_type": "code",
      "execution_count": 7,
      "id": "06e864c5-cdb8-4302-9de8-0f33e4b69f7f",
      "metadata": {
        "id": "06e864c5-cdb8-4302-9de8-0f33e4b69f7f",
        "outputId": "bbdbfcc6-c06e-4a61-f7b0-fa7ca7cca0ad",
        "colab": {
          "base_uri": "https://localhost:8080/",
          "height": 461
        }
      },
      "outputs": [
        {
          "output_type": "execute_result",
          "data": {
            "text/html": [
              "\n",
              "  <div id=\"df-45a041e1-1a86-4e15-a301-c51d47205972\">\n",
              "    <div class=\"colab-df-container\">\n",
              "      <div>\n",
              "<style scoped>\n",
              "    .dataframe tbody tr th:only-of-type {\n",
              "        vertical-align: middle;\n",
              "    }\n",
              "\n",
              "    .dataframe tbody tr th {\n",
              "        vertical-align: top;\n",
              "    }\n",
              "\n",
              "    .dataframe thead th {\n",
              "        text-align: right;\n",
              "    }\n",
              "</style>\n",
              "<table border=\"1\" class=\"dataframe\">\n",
              "  <thead>\n",
              "    <tr style=\"text-align: right;\">\n",
              "      <th></th>\n",
              "      <th>registrationNumber</th>\n",
              "      <th>artEndDate</th>\n",
              "      <th>co2Emissions</th>\n",
              "      <th>engineCapacity</th>\n",
              "      <th>euroStatus</th>\n",
              "      <th>markedForExport</th>\n",
              "      <th>fuelType</th>\n",
              "      <th>motStatus</th>\n",
              "      <th>colour</th>\n",
              "      <th>make</th>\n",
              "      <th>typeApproval</th>\n",
              "      <th>yearOfManufacture</th>\n",
              "      <th>taxDueDate</th>\n",
              "      <th>taxStatus</th>\n",
              "      <th>dateOfLastV5CIssued</th>\n",
              "      <th>realDrivingEmissions</th>\n",
              "      <th>wheelplan</th>\n",
              "      <th>monthOfFirstRegistration</th>\n",
              "      <th>revenueWeight</th>\n",
              "      <th>motExpiryDate</th>\n",
              "      <th>Region</th>\n",
              "    </tr>\n",
              "  </thead>\n",
              "  <tbody>\n",
              "    <tr>\n",
              "      <th>0</th>\n",
              "      <td>GX71CWF</td>\n",
              "      <td>NaT</td>\n",
              "      <td>0.0</td>\n",
              "      <td>NaN</td>\n",
              "      <td>None</td>\n",
              "      <td>False</td>\n",
              "      <td>ELECTRICITY</td>\n",
              "      <td>No results returned</td>\n",
              "      <td>GREEN</td>\n",
              "      <td>JIAYUAN</td>\n",
              "      <td>L6</td>\n",
              "      <td>2021.0</td>\n",
              "      <td>2022-12-01 00:00:00+00:00</td>\n",
              "      <td>Taxed</td>\n",
              "      <td>2021-12-30 00:00:00+00:00</td>\n",
              "      <td>nan</td>\n",
              "      <td>2 AXLE RIGID BODY</td>\n",
              "      <td>2021-12-01 00:00:00+00:00</td>\n",
              "      <td>875.0</td>\n",
              "      <td>NaT</td>\n",
              "      <td>GB</td>\n",
              "    </tr>\n",
              "    <tr>\n",
              "      <th>1</th>\n",
              "      <td>BN71EYY</td>\n",
              "      <td>NaT</td>\n",
              "      <td>0.0</td>\n",
              "      <td>NaN</td>\n",
              "      <td>None</td>\n",
              "      <td>False</td>\n",
              "      <td>ELECTRICITY</td>\n",
              "      <td>No details held by DVLA</td>\n",
              "      <td>BLACK</td>\n",
              "      <td>KYMCO AGILITY</td>\n",
              "      <td>None</td>\n",
              "      <td>2021.0</td>\n",
              "      <td>2022-12-01 00:00:00+00:00</td>\n",
              "      <td>Taxed</td>\n",
              "      <td>2021-12-31 00:00:00+00:00</td>\n",
              "      <td>nan</td>\n",
              "      <td>NON STANDARD</td>\n",
              "      <td>2021-12-01 00:00:00+00:00</td>\n",
              "      <td>NaN</td>\n",
              "      <td>NaT</td>\n",
              "      <td>GB</td>\n",
              "    </tr>\n",
              "    <tr>\n",
              "      <th>2</th>\n",
              "      <td>LJ71DHF</td>\n",
              "      <td>NaT</td>\n",
              "      <td>0.0</td>\n",
              "      <td>NaN</td>\n",
              "      <td>EURO 5</td>\n",
              "      <td>False</td>\n",
              "      <td>ELECTRICITY</td>\n",
              "      <td>No details held by DVLA</td>\n",
              "      <td>WHITE</td>\n",
              "      <td>E-Max</td>\n",
              "      <td>L1</td>\n",
              "      <td>2021.0</td>\n",
              "      <td>2022-12-01 00:00:00+00:00</td>\n",
              "      <td>Taxed</td>\n",
              "      <td>2021-12-30 00:00:00+00:00</td>\n",
              "      <td>nan</td>\n",
              "      <td>2 WHEEL</td>\n",
              "      <td>2021-12-01 00:00:00+00:00</td>\n",
              "      <td>NaN</td>\n",
              "      <td>NaT</td>\n",
              "      <td>GB</td>\n",
              "    </tr>\n",
              "    <tr>\n",
              "      <th>3</th>\n",
              "      <td>LJ71DHY</td>\n",
              "      <td>NaT</td>\n",
              "      <td>0.0</td>\n",
              "      <td>NaN</td>\n",
              "      <td>EURO 5</td>\n",
              "      <td>False</td>\n",
              "      <td>ELECTRICITY</td>\n",
              "      <td>No details held by DVLA</td>\n",
              "      <td>WHITE</td>\n",
              "      <td>E-Max</td>\n",
              "      <td>L1</td>\n",
              "      <td>2021.0</td>\n",
              "      <td>2022-12-01 00:00:00+00:00</td>\n",
              "      <td>Taxed</td>\n",
              "      <td>2021-12-30 00:00:00+00:00</td>\n",
              "      <td>nan</td>\n",
              "      <td>2 WHEEL</td>\n",
              "      <td>2021-12-01 00:00:00+00:00</td>\n",
              "      <td>NaN</td>\n",
              "      <td>NaT</td>\n",
              "      <td>GB</td>\n",
              "    </tr>\n",
              "    <tr>\n",
              "      <th>4</th>\n",
              "      <td>RX71ANF</td>\n",
              "      <td>NaT</td>\n",
              "      <td>0.0</td>\n",
              "      <td>NaN</td>\n",
              "      <td>None</td>\n",
              "      <td>False</td>\n",
              "      <td>ELECTRICITY</td>\n",
              "      <td>No details held by DVLA</td>\n",
              "      <td>SILVER</td>\n",
              "      <td>TGA MIDI BREEZE 4</td>\n",
              "      <td>None</td>\n",
              "      <td>2021.0</td>\n",
              "      <td>2022-12-01 00:00:00+00:00</td>\n",
              "      <td>Taxed</td>\n",
              "      <td>2021-12-31 00:00:00+00:00</td>\n",
              "      <td>nan</td>\n",
              "      <td>NON STANDARD</td>\n",
              "      <td>2021-12-01 00:00:00+00:00</td>\n",
              "      <td>NaN</td>\n",
              "      <td>NaT</td>\n",
              "      <td>GB</td>\n",
              "    </tr>\n",
              "  </tbody>\n",
              "</table>\n",
              "</div>\n",
              "      <button class=\"colab-df-convert\" onclick=\"convertToInteractive('df-45a041e1-1a86-4e15-a301-c51d47205972')\"\n",
              "              title=\"Convert this dataframe to an interactive table.\"\n",
              "              style=\"display:none;\">\n",
              "        \n",
              "  <svg xmlns=\"http://www.w3.org/2000/svg\" height=\"24px\"viewBox=\"0 0 24 24\"\n",
              "       width=\"24px\">\n",
              "    <path d=\"M0 0h24v24H0V0z\" fill=\"none\"/>\n",
              "    <path d=\"M18.56 5.44l.94 2.06.94-2.06 2.06-.94-2.06-.94-.94-2.06-.94 2.06-2.06.94zm-11 1L8.5 8.5l.94-2.06 2.06-.94-2.06-.94L8.5 2.5l-.94 2.06-2.06.94zm10 10l.94 2.06.94-2.06 2.06-.94-2.06-.94-.94-2.06-.94 2.06-2.06.94z\"/><path d=\"M17.41 7.96l-1.37-1.37c-.4-.4-.92-.59-1.43-.59-.52 0-1.04.2-1.43.59L10.3 9.45l-7.72 7.72c-.78.78-.78 2.05 0 2.83L4 21.41c.39.39.9.59 1.41.59.51 0 1.02-.2 1.41-.59l7.78-7.78 2.81-2.81c.8-.78.8-2.07 0-2.86zM5.41 20L4 18.59l7.72-7.72 1.47 1.35L5.41 20z\"/>\n",
              "  </svg>\n",
              "      </button>\n",
              "      \n",
              "  <style>\n",
              "    .colab-df-container {\n",
              "      display:flex;\n",
              "      flex-wrap:wrap;\n",
              "      gap: 12px;\n",
              "    }\n",
              "\n",
              "    .colab-df-convert {\n",
              "      background-color: #E8F0FE;\n",
              "      border: none;\n",
              "      border-radius: 50%;\n",
              "      cursor: pointer;\n",
              "      display: none;\n",
              "      fill: #1967D2;\n",
              "      height: 32px;\n",
              "      padding: 0 0 0 0;\n",
              "      width: 32px;\n",
              "    }\n",
              "\n",
              "    .colab-df-convert:hover {\n",
              "      background-color: #E2EBFA;\n",
              "      box-shadow: 0px 1px 2px rgba(60, 64, 67, 0.3), 0px 1px 3px 1px rgba(60, 64, 67, 0.15);\n",
              "      fill: #174EA6;\n",
              "    }\n",
              "\n",
              "    [theme=dark] .colab-df-convert {\n",
              "      background-color: #3B4455;\n",
              "      fill: #D2E3FC;\n",
              "    }\n",
              "\n",
              "    [theme=dark] .colab-df-convert:hover {\n",
              "      background-color: #434B5C;\n",
              "      box-shadow: 0px 1px 3px 1px rgba(0, 0, 0, 0.15);\n",
              "      filter: drop-shadow(0px 1px 2px rgba(0, 0, 0, 0.3));\n",
              "      fill: #FFFFFF;\n",
              "    }\n",
              "  </style>\n",
              "\n",
              "      <script>\n",
              "        const buttonEl =\n",
              "          document.querySelector('#df-45a041e1-1a86-4e15-a301-c51d47205972 button.colab-df-convert');\n",
              "        buttonEl.style.display =\n",
              "          google.colab.kernel.accessAllowed ? 'block' : 'none';\n",
              "\n",
              "        async function convertToInteractive(key) {\n",
              "          const element = document.querySelector('#df-45a041e1-1a86-4e15-a301-c51d47205972');\n",
              "          const dataTable =\n",
              "            await google.colab.kernel.invokeFunction('convertToInteractive',\n",
              "                                                     [key], {});\n",
              "          if (!dataTable) return;\n",
              "\n",
              "          const docLinkHtml = 'Like what you see? Visit the ' +\n",
              "            '<a target=\"_blank\" href=https://colab.research.google.com/notebooks/data_table.ipynb>data table notebook</a>'\n",
              "            + ' to learn more about interactive tables.';\n",
              "          element.innerHTML = '';\n",
              "          dataTable['output_type'] = 'display_data';\n",
              "          await google.colab.output.renderOutput(dataTable, element);\n",
              "          const docLink = document.createElement('div');\n",
              "          docLink.innerHTML = docLinkHtml;\n",
              "          element.appendChild(docLink);\n",
              "        }\n",
              "      </script>\n",
              "    </div>\n",
              "  </div>\n",
              "  "
            ],
            "text/plain": [
              "  registrationNumber artEndDate  ...  motExpiryDate  Region\n",
              "0            GX71CWF        NaT  ...            NaT      GB\n",
              "1            BN71EYY        NaT  ...            NaT      GB\n",
              "2            LJ71DHF        NaT  ...            NaT      GB\n",
              "3            LJ71DHY        NaT  ...            NaT      GB\n",
              "4            RX71ANF        NaT  ...            NaT      GB\n",
              "\n",
              "[5 rows x 21 columns]"
            ]
          },
          "metadata": {},
          "execution_count": 7
        }
      ],
      "source": [
        "# The .head() method shows us the top 5 lines of the spreadsheet. \n",
        "df.head()"
      ]
    },
    {
      "cell_type": "code",
      "source": [
        ""
      ],
      "metadata": {
        "id": "QeTCvqYFduI-"
      },
      "id": "QeTCvqYFduI-",
      "execution_count": null,
      "outputs": []
    }
  ],
  "metadata": {
    "kernelspec": {
      "display_name": "Python 3",
      "language": "python",
      "name": "python3"
    },
    "language_info": {
      "codemirror_mode": {
        "name": "ipython",
        "version": 3
      },
      "file_extension": ".py",
      "mimetype": "text/x-python",
      "name": "python",
      "nbconvert_exporter": "python",
      "pygments_lexer": "ipython3",
      "version": "3.7.10"
    },
    "colab": {
      "name": "BigQuery tutorial.ipynb",
      "provenance": [],
      "include_colab_link": true
    }
  },
  "nbformat": 4,
  "nbformat_minor": 5
}