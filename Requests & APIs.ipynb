{
  "cells": [
    {
      "cell_type": "markdown",
      "metadata": {
        "id": "view-in-github",
        "colab_type": "text"
      },
      "source": [
        "<a href=\"https://colab.research.google.com/github/New-AutoMotive/learning/blob/main/Requests%20%26%20APIs.ipynb\" target=\"_parent\"><img src=\"https://colab.research.google.com/assets/colab-badge.svg\" alt=\"Open In Colab\"/></a>"
      ]
    },
    {
      "cell_type": "markdown",
      "source": [
        "### Using the Requests library to make API calls\n",
        "\n",
        "In this notebook, we use the Requests library to make API calls using some python script. \n",
        "\n",
        "We're going to be using the DVLA's VES API, which provides us with the data for Electric Car Count. To do this, we'll need to use a secure key that the DVLA has supplied us with to obtain access to the data. To avoid making this key public, we store it in a Google Drive folder. The first few steps obtain the key from the folder and make it accessible to our script. "
      ],
      "metadata": {
        "id": "HWOjemnT_dHk"
      },
      "id": "HWOjemnT_dHk"
    },
    {
      "cell_type": "code",
      "source": [
        "# Mount (obtain access to) Google Drive. This requires authentication. \n",
        "from google.colab import drive\n",
        "drive.mount('/content/drive')\n",
        "\n",
        "# This line of code tells the python interpreter to look for libraries inside a folder called 'Credentials', which contains a .py file with our key inside. \n",
        "import sys\n",
        "sys.path.append('/content/drive/MyDrive/New AutoMotive/Data & Tech/Credentials')"
      ],
      "metadata": {
        "id": "FwwWqK4M_o3k",
        "outputId": "b7b103d2-81b3-4df5-acf8-03db30069186",
        "colab": {
          "base_uri": "https://localhost:8080/"
        }
      },
      "id": "FwwWqK4M_o3k",
      "execution_count": 2,
      "outputs": [
        {
          "output_type": "stream",
          "name": "stdout",
          "text": [
            "Drive already mounted at /content/drive; to attempt to forcibly remount, call drive.mount(\"/content/drive\", force_remount=True).\n"
          ]
        }
      ]
    },
    {
      "cell_type": "code",
      "execution_count": 3,
      "id": "135310dd-596c-464d-80c3-23ed83d8a748",
      "metadata": {
        "id": "135310dd-596c-464d-80c3-23ed83d8a748"
      },
      "outputs": [],
      "source": [
        "# We import a python library that is used for making HTTP requests\n",
        "import requests\n",
        "\n",
        "# We import a python library that provides us with some tools for storing data in tables and manipulating\n",
        "import pandas as pd\n",
        "\n",
        "# Now we import the key from the credentials folder. \n",
        "from credentials import api_key"
      ]
    },
    {
      "cell_type": "code",
      "execution_count": null,
      "id": "161ed09e-1090-4707-9143-8900cae0ddcb",
      "metadata": {
        "id": "161ed09e-1090-4707-9143-8900cae0ddcb"
      },
      "outputs": [],
      "source": [
        "# Define our headers, using the x-api-key section to enter our credentials. This makes sure we are authorised to access the data, and identifies us to the hosts. \n",
        "headers = {\n",
        "    'x-api-key': api_key,\n",
        "    'Content-Type': 'application/json',\n",
        "}\n",
        "\n",
        "# We define our input data, i.e. the registration number\n",
        "data = '{\"registrationNumber\": \"EK57 SWN\"}'\n",
        "\n",
        "# Now we make the request to the api. The bit of code to the right of the '=' sign is executing a function, the output of which is stored in the variable to the left of the '=' sign\n",
        "response = requests.post('https://driver-vehicle-licensing.api.gov.uk/vehicle-enquiry/v1/vehicles', headers=headers, data=data)"
      ]
    },
    {
      "cell_type": "code",
      "execution_count": null,
      "id": "96b9b5a6-24e0-485a-b538-5d14274222a9",
      "metadata": {
        "id": "96b9b5a6-24e0-485a-b538-5d14274222a9"
      },
      "outputs": [],
      "source": [
        "# This bit of code displays the JSON object that we got back. \n",
        "response.json()"
      ]
    },
    {
      "cell_type": "code",
      "execution_count": null,
      "id": "331cc5df-a1c4-412f-b262-1b0e545646e2",
      "metadata": {
        "id": "331cc5df-a1c4-412f-b262-1b0e545646e2"
      },
      "outputs": [],
      "source": [
        "# Making a function that we can easily use for multiple cars\n",
        "\n",
        "def get_car_deets(vrn):\n",
        "    headers = {\n",
        "    'x-api-key': 'YLl0mhXl6b3L0Ua3NBe465Z4G30vtrGB2afUaYJy',\n",
        "    'Content-Type': 'application/json',\n",
        "    }\n",
        "    \n",
        "    data = '{\"registrationNumber\": \"'\n",
        "    data += vrn\n",
        "    data += '\"}'\n",
        "\n",
        "    response = requests.post('https://driver-vehicle-licensing.api.gov.uk/vehicle-enquiry/v1/vehicles', headers=headers, data=data)\n",
        "    return response.json()"
      ]
    },
    {
      "cell_type": "code",
      "execution_count": null,
      "id": "b62339b8-0654-4f23-b35b-c58de4a3a3a4",
      "metadata": {
        "id": "b62339b8-0654-4f23-b35b-c58de4a3a3a4"
      },
      "outputs": [],
      "source": [
        "# Using our new function:\n",
        "\n",
        "get_car_deets('HG02 RVW')"
      ]
    },
    {
      "cell_type": "code",
      "execution_count": null,
      "id": "6cecb194-f0ca-43d7-9fb8-1502ede52c5e",
      "metadata": {
        "id": "6cecb194-f0ca-43d7-9fb8-1502ede52c5e"
      },
      "outputs": [],
      "source": [
        "# We want to find out details about several vehicles\n",
        "\n",
        "lst_vrns = [\n",
        "    'DX64 LMK',\n",
        "    'OE64 AVY',\n",
        "    'YE14 MZX'\n",
        "]"
      ]
    },
    {
      "cell_type": "code",
      "execution_count": null,
      "id": "e3f5d341-4991-476c-827a-6a4356a87b64",
      "metadata": {
        "id": "e3f5d341-4991-476c-827a-6a4356a87b64"
      },
      "outputs": [],
      "source": [
        "# Create an empty list to store the data in\n",
        "lst_car_data = []\n",
        "\n",
        "# Now go through the list of VRNs and request data from the API for each one, storing (appending) the data to our empty list\n",
        "for vrn in lst_vrns:\n",
        "    lst_car_data.append(get_car_deets(vrn))"
      ]
    },
    {
      "cell_type": "code",
      "execution_count": null,
      "id": "b40348cf-3e88-49cc-9767-93c327fe8b73",
      "metadata": {
        "id": "b40348cf-3e88-49cc-9767-93c327fe8b73"
      },
      "outputs": [],
      "source": [
        "# Use the pandas library to arrange the data into a table, and display it\n",
        "pd.DataFrame(lst_car_data)"
      ]
    }
  ],
  "metadata": {
    "kernelspec": {
      "display_name": "Python 3",
      "language": "python",
      "name": "python3"
    },
    "language_info": {
      "codemirror_mode": {
        "name": "ipython",
        "version": 3
      },
      "file_extension": ".py",
      "mimetype": "text/x-python",
      "name": "python",
      "nbconvert_exporter": "python",
      "pygments_lexer": "ipython3",
      "version": "3.7.10"
    },
    "colab": {
      "name": "Requests & APIs.ipynb",
      "provenance": [],
      "include_colab_link": true
    }
  },
  "nbformat": 4,
  "nbformat_minor": 5
}