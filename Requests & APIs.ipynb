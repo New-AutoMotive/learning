{
 "cells": [
  {
   "cell_type": "code",
   "execution_count": null,
   "id": "135310dd-596c-464d-80c3-23ed83d8a748",
   "metadata": {},
   "outputs": [],
   "source": [
    "# We import a python library that is used for making HTTP requests\n",
    "import requests\n",
    "\n",
    "# We import a python library that provides us with some tools for storing data in tables and manipulating\n",
    "import pandas as pd\n",
    "\n",
    "from credentials import api_key"
   ]
  },
  {
   "cell_type": "code",
   "execution_count": null,
   "id": "161ed09e-1090-4707-9143-8900cae0ddcb",
   "metadata": {},
   "outputs": [],
   "source": [
    "# Define our headers, using the x-api-key section to enter our credentials. This makes sure we are authorised to access the data, and identifies us to the hosts. \n",
    "headers = {\n",
    "    'x-api-key': api_key,\n",
    "    'Content-Type': 'application/json',\n",
    "}\n",
    "\n",
    "# We define our input data, i.e. the registration number\n",
    "data = '{\"registrationNumber\": \"EK57 SWN\"}'\n",
    "\n",
    "# Now we make the request to the api. The bit of code to the right of the '=' sign is executing a function, the output of which is stored in the variable to the left of the '=' sign\n",
    "response = requests.post('https://driver-vehicle-licensing.api.gov.uk/vehicle-enquiry/v1/vehicles', headers=headers, data=data)"
   ]
  },
  {
   "cell_type": "code",
   "execution_count": null,
   "id": "96b9b5a6-24e0-485a-b538-5d14274222a9",
   "metadata": {},
   "outputs": [],
   "source": [
    "# This bit of code displays the JSON object that we got back. \n",
    "response.json()"
   ]
  },
  {
   "cell_type": "code",
   "execution_count": null,
   "id": "331cc5df-a1c4-412f-b262-1b0e545646e2",
   "metadata": {},
   "outputs": [],
   "source": [
    "# Making a function that we can easily use for multiple cars\n",
    "\n",
    "def get_car_deets(vrn):\n",
    "    headers = {\n",
    "    'x-api-key': 'YLl0mhXl6b3L0Ua3NBe465Z4G30vtrGB2afUaYJy',\n",
    "    'Content-Type': 'application/json',\n",
    "    }\n",
    "    \n",
    "    data = '{\"registrationNumber\": \"'\n",
    "    data += vrn\n",
    "    data += '\"}'\n",
    "\n",
    "    response = requests.post('https://driver-vehicle-licensing.api.gov.uk/vehicle-enquiry/v1/vehicles', headers=headers, data=data)\n",
    "    return response.json()"
   ]
  },
  {
   "cell_type": "code",
   "execution_count": null,
   "id": "b62339b8-0654-4f23-b35b-c58de4a3a3a4",
   "metadata": {},
   "outputs": [],
   "source": [
    "# Using our new function:\n",
    "\n",
    "get_car_deets('HG02 RVW')"
   ]
  },
  {
   "cell_type": "code",
   "execution_count": null,
   "id": "6cecb194-f0ca-43d7-9fb8-1502ede52c5e",
   "metadata": {},
   "outputs": [],
   "source": [
    "# We want to find out details about several vehicles\n",
    "\n",
    "lst_vrns = [\n",
    "    'DX64 LMK',\n",
    "    'OE64 AVY',\n",
    "    'YE14 MZX'\n",
    "]"
   ]
  },
  {
   "cell_type": "code",
   "execution_count": null,
   "id": "e3f5d341-4991-476c-827a-6a4356a87b64",
   "metadata": {},
   "outputs": [],
   "source": [
    "# Create an empty list to store the data in\n",
    "lst_car_data = []\n",
    "\n",
    "# Now go through the list of VRNs and request data from the API for each one, storing (appending) the data to our empty list\n",
    "for vrn in lst_vrns:\n",
    "    lst_car_data.append(get_car_deets(vrn))"
   ]
  },
  {
   "cell_type": "code",
   "execution_count": null,
   "id": "b40348cf-3e88-49cc-9767-93c327fe8b73",
   "metadata": {},
   "outputs": [],
   "source": [
    "# Use the pandas library to arrange the data into a table, and display it\n",
    "pd.DataFrame(lst_car_data)"
   ]
  }
 ],
 "metadata": {
  "kernelspec": {
   "display_name": "Python 3",
   "language": "python",
   "name": "python3"
  },
  "language_info": {
   "codemirror_mode": {
    "name": "ipython",
    "version": 3
   },
   "file_extension": ".py",
   "mimetype": "text/x-python",
   "name": "python",
   "nbconvert_exporter": "python",
   "pygments_lexer": "ipython3",
   "version": "3.7.10"
  }
 },
 "nbformat": 4,
 "nbformat_minor": 5
}
