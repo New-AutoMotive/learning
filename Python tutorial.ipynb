{
 "cells": [
  {
   "cell_type": "markdown",
   "id": "b61003f0-cdd1-438b-bc7c-56937a0f4f4c",
   "metadata": {},
   "source": [
    "## Python super quick tutorial"
   ]
  },
  {
   "cell_type": "markdown",
   "id": "fbf97294-469e-41ad-8cb1-5cec697dd63e",
   "metadata": {},
   "source": [
    "Python is a high level, general purpose programming language. \n",
    "\n",
    "**High level** : there is a piece of software, the python interpreter, which reads and executes instructions from your python script. \n",
    "\n",
    "**General purpose** : it can do loads of stuff, from creating apps to data science projects. "
   ]
  },
  {
   "cell_type": "markdown",
   "id": "d4536609-81bb-4318-b5b5-72035fb7f215",
   "metadata": {},
   "source": [
    "#### Comments vs Code:"
   ]
  },
  {
   "cell_type": "code",
   "execution_count": null,
   "id": "9d474097-c68c-475a-8ec8-be93b786fb4e",
   "metadata": {},
   "outputs": [],
   "source": [
    "# Starting a line with a hash symbol tells the python interpreter to ignore the following text. \n",
    "# This allows us to place comments inside our code, which is helpful as we can add explanations for other humans!"
   ]
  },
  {
   "cell_type": "markdown",
   "id": "1675d441-1252-400f-9d2f-d72bbc2e3549",
   "metadata": {},
   "source": [
    "#### Objects (and data types)"
   ]
  },
  {
   "cell_type": "code",
   "execution_count": null,
   "id": "1e538887-a4ea-485c-81b9-f7786401a581",
   "metadata": {},
   "outputs": [],
   "source": [
    "# Data is stored in objects using an equals sign. \n",
    "# There are a few different types of data\n",
    "\n",
    "s = \"this is a string\" # This is a string\n",
    "i = 64 # This is an integer\n",
    "f = 34.5 # This is a float\n",
    "b = False # This is a bool\n",
    "\n",
    "# s, i, f, b are all OBJECTS. "
   ]
  },
  {
   "cell_type": "markdown",
   "id": "18fd388b-5500-4d4b-9f64-e3e8bc671235",
   "metadata": {},
   "source": [
    "#### Functions"
   ]
  },
  {
   "cell_type": "code",
   "execution_count": null,
   "id": "dc68dd19-8264-4d97-8b7a-12ad2696f533",
   "metadata": {},
   "outputs": [],
   "source": [
    "# We can tell the python interpreter to execute functions. \n",
    "# Functions always take the form of the name of the function, plus parenthesis at the end.\n",
    "# Inside the parenthesis, we can pass arguments to the function.\n",
    "\n",
    "print(s)\n",
    "\n",
    "# Sometimes functions can be attached to other objects, in which case they're known as methods. \n",
    "# In these cases, they appear in the following form, which would execute the method: object.method()\n",
    "# But don't worry, it's easy: methods are essentially just functions!"
   ]
  },
  {
   "cell_type": "markdown",
   "id": "9ec9048d-d82d-4b32-ae5d-78cd50cc1bd0",
   "metadata": {},
   "source": [
    "#### Packages"
   ]
  },
  {
   "cell_type": "code",
   "execution_count": null,
   "id": "9502812b-21d6-4a55-9313-d3e04e5072c5",
   "metadata": {},
   "outputs": [],
   "source": [
    "# We can import packages that are available in our environment by doing the following\n",
    "\n",
    "import pandas\n",
    "\n",
    "# Sometimes it's helpful to create a shorthand name for the packages, so we do the following:\n",
    "\n",
    "import pandas as pd\n",
    "import numpy as np"
   ]
  },
  {
   "cell_type": "markdown",
   "id": "42f15482-b29a-4737-92b9-4290239dd23e",
   "metadata": {},
   "source": [
    "#### Pandas intro"
   ]
  },
  {
   "cell_type": "code",
   "execution_count": null,
   "id": "5d0025cc-db06-4252-958a-f1dd86672d96",
   "metadata": {},
   "outputs": [],
   "source": [
    "# Pandas allows us to handle spreadsheets, which are known as DataFrames\n",
    "\n",
    "# Ignore these lines for now - it just creates a spreadsheet with random numbers in\n",
    "dates = pd.date_range(\"20130101\", periods=6)\n",
    "df = pd.DataFrame(np.random.randn(6, 4), index=dates, columns=list(\"ABCD\"))\n",
    "\n",
    "# the .head() method is a function that shows us the first 5 lines of a DataFrame\n",
    "df.head()"
   ]
  },
  {
   "cell_type": "code",
   "execution_count": null,
   "id": "15004609-b0c0-4395-ad69-05506a5c58ed",
   "metadata": {},
   "outputs": [],
   "source": [
    "# We can look at individual columns\n",
    "df.A"
   ]
  },
  {
   "cell_type": "code",
   "execution_count": null,
   "id": "a6067641-30c8-4390-86f9-146877b79300",
   "metadata": {},
   "outputs": [],
   "source": [
    "# We can create new columns\n",
    "df['E'] = 0\n",
    "\n",
    "# Let's have a look at the DataFrame now"
   ]
  },
  {
   "cell_type": "markdown",
   "id": "eecfbc7b-c10f-40b8-9e35-1f5115857af3",
   "metadata": {},
   "source": [
    "Pandas can also read files, such as csv files, excel files, and so on. It's a really helpful tool for doing data analysis when we have data in the form of tables and spreadsheets. "
   ]
  }
 ],
 "metadata": {
  "kernelspec": {
   "display_name": "Python 3",
   "language": "python",
   "name": "python3"
  },
  "language_info": {
   "codemirror_mode": {
    "name": "ipython",
    "version": 3
   },
   "file_extension": ".py",
   "mimetype": "text/x-python",
   "name": "python",
   "nbconvert_exporter": "python",
   "pygments_lexer": "ipython3",
   "version": "3.7.10"
  }
 },
 "nbformat": 4,
 "nbformat_minor": 5
}
