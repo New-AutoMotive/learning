{
  "cells": [
    {
      "cell_type": "markdown",
      "metadata": {
        "id": "view-in-github",
        "colab_type": "text"
      },
      "source": [
        "<a href=\"https://colab.research.google.com/github/New-AutoMotive/learning/blob/main/Python%20tutorial.ipynb\" target=\"_parent\"><img src=\"https://colab.research.google.com/assets/colab-badge.svg\" alt=\"Open In Colab\"/></a>"
      ]
    },
    {
      "cell_type": "markdown",
      "id": "b61003f0-cdd1-438b-bc7c-56937a0f4f4c",
      "metadata": {
        "id": "b61003f0-cdd1-438b-bc7c-56937a0f4f4c"
      },
      "source": [
        "## Python super quick tutorial"
      ]
    },
    {
      "cell_type": "markdown",
      "id": "d4536609-81bb-4318-b5b5-72035fb7f215",
      "metadata": {
        "id": "d4536609-81bb-4318-b5b5-72035fb7f215"
      },
      "source": [
        "#### Comments vs Code:"
      ]
    },
    {
      "cell_type": "code",
      "execution_count": null,
      "id": "9d474097-c68c-475a-8ec8-be93b786fb4e",
      "metadata": {
        "id": "9d474097-c68c-475a-8ec8-be93b786fb4e"
      },
      "outputs": [],
      "source": [
        "# Starting a line with a hash symbol tells the python interpreter to ignore the following text. \n",
        "# This allows us to place comments inside our code, which is helpful as we can add explanations for other humans!"
      ]
    },
    {
      "cell_type": "markdown",
      "id": "1675d441-1252-400f-9d2f-d72bbc2e3549",
      "metadata": {
        "id": "1675d441-1252-400f-9d2f-d72bbc2e3549"
      },
      "source": [
        "#### Objects (and data types)"
      ]
    },
    {
      "cell_type": "code",
      "execution_count": null,
      "id": "1e538887-a4ea-485c-81b9-f7786401a581",
      "metadata": {
        "id": "1e538887-a4ea-485c-81b9-f7786401a581"
      },
      "outputs": [],
      "source": [
        "# Data is stored in objects using an equals sign. \n",
        "# There are a few different types of data\n",
        "\n",
        "s = \"this is a string\" # This is a string\n",
        "i = 64 # This is an integer\n",
        "f = 34.5 # This is a float\n",
        "b = False # This is a bool\n",
        "\n",
        "# s, i, f, b are all OBJECTS. "
      ]
    },
    {
      "cell_type": "code",
      "source": [
        "# What would happen if we run this cell?"
      ],
      "metadata": {
        "id": "x0NwFc-DOBA-"
      },
      "id": "x0NwFc-DOBA-",
      "execution_count": null,
      "outputs": []
    },
    {
      "cell_type": "code",
      "source": [
        "# What about this one?\n",
        "print(s)"
      ],
      "metadata": {
        "id": "-1UNpEDdOGy1"
      },
      "id": "-1UNpEDdOGy1",
      "execution_count": null,
      "outputs": []
    },
    {
      "cell_type": "markdown",
      "id": "18fd388b-5500-4d4b-9f64-e3e8bc671235",
      "metadata": {
        "id": "18fd388b-5500-4d4b-9f64-e3e8bc671235"
      },
      "source": [
        "#### Functions"
      ]
    },
    {
      "cell_type": "code",
      "execution_count": null,
      "id": "dc68dd19-8264-4d97-8b7a-12ad2696f533",
      "metadata": {
        "id": "dc68dd19-8264-4d97-8b7a-12ad2696f533"
      },
      "outputs": [],
      "source": [
        "# We can tell the python interpreter to execute functions. \n",
        "# Functions always take the form of the name of the function, plus parenthesis at the end.\n",
        "# Inside the parenthesis, we can pass arguments to the function.\n",
        "\n",
        "print(s)\n",
        "\n",
        "# Sometimes functions can be attached to other objects, in which case they're known as methods. \n",
        "# In these cases, they appear in the following form, which would execute the method: object.method()\n",
        "# But don't worry, it's easy: methods are essentially just functions!"
      ]
    },
    {
      "cell_type": "markdown",
      "source": [
        "#### Arrays: lists & dictionaries"
      ],
      "metadata": {
        "id": "EWqMcEqeQcka"
      },
      "id": "EWqMcEqeQcka"
    },
    {
      "cell_type": "code",
      "source": [
        "lst = [1, 2, 3, 4]\n",
        "\n",
        "second_item = lst[1]\n",
        "\n",
        "\n",
        "dct = {'apple': 'a red piece of fruit', 'banana': 'a yellow piece of fruit'}\n",
        "\n",
        "apple_entry = dct['apple']\n",
        "\n",
        "print(second_item)\n",
        "print(apple_entry)"
      ],
      "metadata": {
        "id": "1kolXpa6Qk-G"
      },
      "id": "1kolXpa6Qk-G",
      "execution_count": null,
      "outputs": []
    },
    {
      "cell_type": "markdown",
      "id": "9ec9048d-d82d-4b32-ae5d-78cd50cc1bd0",
      "metadata": {
        "id": "9ec9048d-d82d-4b32-ae5d-78cd50cc1bd0"
      },
      "source": [
        "#### Packages"
      ]
    },
    {
      "cell_type": "code",
      "execution_count": null,
      "id": "9502812b-21d6-4a55-9313-d3e04e5072c5",
      "metadata": {
        "id": "9502812b-21d6-4a55-9313-d3e04e5072c5"
      },
      "outputs": [],
      "source": [
        "# We can import packages that are available in our environment by doing the following\n",
        "\n",
        "import pandas\n",
        "\n",
        "# Sometimes it's helpful to create a shorthand name for the packages, so we do the following:\n",
        "\n",
        "import pandas as pd\n",
        "import numpy as np"
      ]
    },
    {
      "cell_type": "markdown",
      "id": "42f15482-b29a-4737-92b9-4290239dd23e",
      "metadata": {
        "id": "42f15482-b29a-4737-92b9-4290239dd23e"
      },
      "source": [
        "#### Pandas intro"
      ]
    },
    {
      "cell_type": "code",
      "execution_count": null,
      "id": "5d0025cc-db06-4252-958a-f1dd86672d96",
      "metadata": {
        "id": "5d0025cc-db06-4252-958a-f1dd86672d96"
      },
      "outputs": [],
      "source": [
        "# Pandas allows us to handle spreadsheets, which are known as DataFrames\n",
        "\n",
        "# Ignore these lines for now - it just creates a spreadsheet with random numbers in\n",
        "dates = pd.date_range(\"20130101\", periods=6)\n",
        "df = pd.DataFrame(np.random.randn(6, 4), index=dates, columns=list(\"ABCD\"))\n",
        "\n",
        "# the .head() method is a function that shows us the first 5 lines of a DataFrame\n",
        "df.head()"
      ]
    },
    {
      "cell_type": "code",
      "execution_count": null,
      "id": "15004609-b0c0-4395-ad69-05506a5c58ed",
      "metadata": {
        "id": "15004609-b0c0-4395-ad69-05506a5c58ed"
      },
      "outputs": [],
      "source": [
        "# We can look at individual columns\n",
        "df.A"
      ]
    },
    {
      "cell_type": "code",
      "execution_count": null,
      "id": "a6067641-30c8-4390-86f9-146877b79300",
      "metadata": {
        "id": "a6067641-30c8-4390-86f9-146877b79300"
      },
      "outputs": [],
      "source": [
        "# We can create new columns\n",
        "df['E'] = 0\n",
        "\n",
        "# Let's have a look at the DataFrame now"
      ]
    },
    {
      "cell_type": "code",
      "source": [
        "# Let's take a closer look at how a DataFrame is constructed\n",
        "\n",
        "# E.g. a record of how many coffees and cakes I have had in 5 days. \n",
        "df_cf = pd.DataFrame(\n",
        "    data = {'coffees': [4, 2, 3, 1, 4], 'cakes': [1, 2, 1, 3, 5]}, \n",
        "    index=pd.DatetimeIndex(['2022-01-17', '2022-01-17', '2022-01-18', '2022-01-19', '2022-01-20'])\n",
        "    )\n",
        "\n",
        "# Let's break down the above line of code\n",
        "# We have our data, which is a dictionary containing two lists:\n",
        "data = {'coffees': [4, 2, 3, 1, 4], 'cakes': [1, 2, 1, 3, 5]}\n",
        "\n",
        "# We have an index being specified - think of it like row names\n",
        "idx = pd.DatetimeIndex(['2022-01-17', '2022-01-17', '2022-01-18', '2022-01-19', '2022-01-20'])\n",
        "\n",
        "df_cd = pd.DataFrame(data = data, index=idx)"
      ],
      "metadata": {
        "id": "H1_UfcsvOSEl"
      },
      "id": "H1_UfcsvOSEl",
      "execution_count": null,
      "outputs": []
    },
    {
      "cell_type": "code",
      "source": [
        "df_cf.head()"
      ],
      "metadata": {
        "id": "e4iwqhuEOpCM"
      },
      "id": "e4iwqhuEOpCM",
      "execution_count": null,
      "outputs": []
    },
    {
      "cell_type": "markdown",
      "id": "eecfbc7b-c10f-40b8-9e35-1f5115857af3",
      "metadata": {
        "id": "eecfbc7b-c10f-40b8-9e35-1f5115857af3"
      },
      "source": [
        "Pandas can also read files, such as csv files, excel files, and so on. It's a really helpful tool for doing data analysis when we have data in the form of tables and spreadsheets. \n",
        "\n",
        "More documentation and tutorials are available here: https://pandas.pydata.org/docs/index.html\n",
        "\n",
        "Continue to https://github.com/new-automotive/learning and open the BigQuery tutorial."
      ]
    }
  ],
  "metadata": {
    "kernelspec": {
      "display_name": "Python 3",
      "language": "python",
      "name": "python3"
    },
    "language_info": {
      "codemirror_mode": {
        "name": "ipython",
        "version": 3
      },
      "file_extension": ".py",
      "mimetype": "text/x-python",
      "name": "python",
      "nbconvert_exporter": "python",
      "pygments_lexer": "ipython3",
      "version": "3.7.10"
    },
    "colab": {
      "name": "Python tutorial.ipynb",
      "provenance": [],
      "include_colab_link": true
    }
  },
  "nbformat": 4,
  "nbformat_minor": 5
}